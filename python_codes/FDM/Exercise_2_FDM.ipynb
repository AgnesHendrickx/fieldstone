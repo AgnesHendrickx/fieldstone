{
 "cells": [
  {
   "cell_type": "code",
   "execution_count": null,
   "metadata": {},
   "outputs": [],
   "source": [
    "import numpy as np\n",
    "import matplotlib as mpl\n",
    "import matplotlib.pyplot as plt"
   ]
  },
  {
   "cell_type": "markdown",
   "metadata": {},
   "source": [
    "Finish the following function which returns the analytical solution to the 1D diffusion problem."
   ]
  },
  {
   "cell_type": "code",
   "execution_count": null,
   "metadata": {},
   "outputs": [],
   "source": [
    "def analytical_solution(x,Lx,Tleft,Tright):\n",
    "    return ..."
   ]
  },
  {
   "cell_type": "code",
   "execution_count": null,
   "metadata": {},
   "outputs": [],
   "source": [
    "Lx=1e3\n",
    "nnx=10\n",
    "kappa=1e-6\n",
    "nstep=2\n",
    "Tleft=100\n",
    "Tright=200\n",
    "epsilon=0.1"
   ]
  },
  {
   "cell_type": "markdown",
   "metadata": {},
   "source": [
    "Compute $h$"
   ]
  },
  {
   "cell_type": "code",
   "execution_count": null,
   "metadata": {},
   "outputs": [],
   "source": [
    "h=\n",
    "print('h=',h)"
   ]
  },
  {
   "cell_type": "markdown",
   "metadata": {},
   "source": [
    "Compute $\\delta t$"
   ]
  },
  {
   "cell_type": "code",
   "execution_count": null,
   "metadata": {},
   "outputs": [],
   "source": [
    "dt=\n",
    "print('dt=',dt)"
   ]
  },
  {
   "cell_type": "markdown",
   "metadata": {},
   "source": [
    "Declare the array $x$ which will contain the coordinate of all $nnx$ points and then fill this array."
   ]
  },
  {
   "cell_type": "code",
   "execution_count": null,
   "metadata": {},
   "outputs": [],
   "source": [
    "x=\n",
    "\n",
    "\n",
    "\n",
    "#print(x)"
   ]
  },
  {
   "cell_type": "markdown",
   "metadata": {},
   "source": [
    "We will need to store at least two temperature fields: the one we already know $\\vec{T}^n$ (the initial temperature or a previously computed field at time $n$), and the one we want to compute $\\vec{T}^{n+1}$ \n",
    "(We choose not to store all transient fields as we are only interested in the final steady state field). We therefore use only two arrays: $Told$ and $Tnew$, both of length $nnx$. Declare these arrays. Fill $Told$ with the value for $\\vec{T}^0$."
   ]
  },
  {
   "cell_type": "code",
   "execution_count": null,
   "metadata": {},
   "outputs": [],
   "source": [
    "Told=\n",
    "Tnew=\n",
    "\n",
    "\n"
   ]
  },
  {
   "cell_type": "markdown",
   "metadata": {},
   "source": [
    "At each timestep $n$ compute from $Told$ the new temperature $Tnew$, using boundary conditions and the explicit scheme. Having done so, compute the average error between $Tnew$ and the real analytical solution. Stop the timestepping loop if this (absolute) error is smaller than $\\epsilon$"
   ]
  },
  {
   "cell_type": "code",
   "execution_count": null,
   "metadata": {},
   "outputs": [],
   "source": [
    "for n in range(0,nstep):\n",
    "\n",
    "    for i in range (0,nnx):\n",
    "\n",
    "        if ....\n",
    "        \n",
    "        # compute Tnew[i]\n",
    "\n",
    "    #compute error\n",
    "    \n",
    "    #print min/max\n",
    "    print(\"timestep #\",n,' min/max Tnew=',np.min(Tnew),np.max(Tnew))        \n",
    "\n",
    "    #transfer new solution into Told array\n",
    "    Told[:]=Tnew[:]\n",
    "    "
   ]
  },
  {
   "cell_type": "markdown",
   "metadata": {},
   "source": [
    "What follows is an example of how to plot the temperature field $Tnew$."
   ]
  },
  {
   "cell_type": "code",
   "execution_count": null,
   "metadata": {},
   "outputs": [],
   "source": [
    "plt.figure(figsize=(6,5)) \n",
    "plt.title('Steady state temperature')\n",
    "plt.plot(x,Tnew,color='black')\n",
    "plt.xlabel('x (m)')\n",
    "plt.ylabel('T (K)')\n",
    "plt.grid()\n",
    "plt.savefig('Temperature.pdf')\n"
   ]
  }
 ],
 "metadata": {
  "kernelspec": {
   "display_name": "Python 3",
   "language": "python",
   "name": "python3"
  },
  "language_info": {
   "codemirror_mode": {
    "name": "ipython",
    "version": 3
   },
   "file_extension": ".py",
   "mimetype": "text/x-python",
   "name": "python",
   "nbconvert_exporter": "python",
   "pygments_lexer": "ipython3",
   "version": "3.7.3"
  }
 },
 "nbformat": 4,
 "nbformat_minor": 2
}
